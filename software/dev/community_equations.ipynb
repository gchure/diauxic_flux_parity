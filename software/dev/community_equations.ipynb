{
    "cells": [
        {
            "cell_type": "code",
            "execution_count": 2,
            "metadata": {},
            "outputs": [],
            "source": [
                "import numpy as np \n",
                "import pandas as pd \n",
                "import scipy.integrate"
            ]
        },
        {
            "cell_type": "code",
            "execution_count": null,
            "metadata": {},
            "outputs": [],
            "source": []
        },
        {
            "cell_type": "code",
            "execution_count": 3,
            "metadata": {},
            "outputs": [],
            "source": [
                "\n",
                "def load_constants():\n",
                "    \"\"\"Returns constants frequently used in this work\"\"\"\n",
                "    params = {'vtl_max': 20,  # Max translation speed in AA/s\n",
                "              'm_Rb': 7459,  # Proteinaceous mass of ribosome  in AA\n",
                "              'Kd_cpc': 0.03,  # precursor dissociation constant in abundance units\n",
                "              'Km': 5E-4,  # Nutrient monod constant in M\n",
                "              'Y': 2.95E19,  # Yield coefficient\n",
                "              'OD_conv': 1.5E17,  # Conversion factor from OD to AA mass.\n",
                "              'Km_u': 3E-5,  # uncharged tRNA dissociation constant in abundance units\n",
                "              'Kd_c': 3E-5,  # Charged tRNA dissociation constant in abundance units\n",
                "              # Maximum tRNA synthesis rate  in abundance units per unit time\n",
                "              'kappa_max': (64 * 5 * 3600) / 1E9,\n",
                "              'tau': 1,  # ppGpp threshold parameter for charged/uncharged tRNA balance\n",
                "              # Fraction of proteome deoveted to `other` proteins for E. coli.\n",
                "              'phi_O': 0.55,\n",
                "              }\n",
                "    params['gamma_max'] = params['vtl_max'] * 3600 / params['m_Rb']\n",
                "    return params"
            ]
        },
        {
            "cell_type": "code",
            "execution_count": 5,
            "metadata": {},
            "outputs": [],
            "source": [
                "def unpack_params(params, args): \n",
                "    n_nuts = len(args['n_nutrients'])\n",
                "    n_species = len(args(['n_species']))\n",
                "    n_params = n_nuts + 4 # 4 is hard coded to account for M_O, M_Rb, tRNA_u, tRNA_c\n",
                "\n",
                "    # Unpack the nutrient concentrations\n",
                "    nutrients = [c for c in params[-n_nuts:]]\n",
                "    masses = params[:-n_nuts]\n",
                "\n",
                "    # Separate the params into species\n",
                "    species = []\n",
                "    for i in range(n_species):\n",
                "        species.append(masses[i*n_params:n_params * (i + 1)])\n",
                "\n",
                "    return nutrients, species\n",
                "\n",
                "def compute_FPM(tRNA_u, tRNA_c, c_nt, args):\n",
                "    n_nuts = len(c_nt)\n",
                "    # Set ribosomal allocation, based on the ratio and enforcing positivity\n",
                "    if tRNA_u <= 0:\n",
                "        phi_Rb = (1 - args['phi_O'])\n",
                "    else:\n",
                "        ratio = tRNA_c/tRNA_u\n",
                "        phi_Rb = (1 - args['phi_O']) * (ratio / (ratio + args['tau']))\n",
                "\n",
                "    # Set the hierarchy and metabolic allocation \n",
                "    metabolic_suballocation = [] \n",
                "    if args['alpha_mode'] == 'dynamic':\n",
                "        # We assume a monod function for the suballocation\n",
                "        for i in range(n_nuts - 1):\n",
                "            monod_fn = c_nt[i] / (c_nt[i] + args['alpha_Km'][i])\n",
                "            if i == 0:\n",
                "                metabolic_suballocation[i] = monod_fn\n",
                "            else:\n",
                "                metabolic_suballocation[i] = (1 - np.sum(metabolic_suballocation[:i]) * monod_fn)\n",
                "        metabolic_suballocation[-1] = 1 - np.sum(metabolic_suballocation)\n",
                "\n",
                "    elif args['alpha_mode'] == 'fixed':\n",
                "        metabolic_suballocation = args['alpha']\n",
                "\n",
                "    # Compute the rates\n",
                "    gamma = args['gamma_max'] * tRNA_c / (tRNA_c + args['Km_c'])\n",
                "    kappa = args['kappa_max'] * phi_Rb / (1 - args['phi_O'])\n",
                "    nu = np.zeros_like(c_nt) \n",
                "    for i, c in enumerate(c_nt):\n",
                "        nu[i] = args['nu_max'][i] * (tRNA_u / (tRNA_u + args['Km_u'])) * (c_nt[i] / (c_nt[i] + args['Km'][i])) \n",
                " \n",
                "    # Compute the net metabolic allocation\n",
                "    phi_Mb = (1 - args['phi_O'] - phi_Rb) * metabolic_suballocation\n",
                "    return phi_Rb, phi_Mb, nu, gamma, kappa\n",
                "\n",
                "   \n",
                "def compute_derivatives(masses, c_nt, args):\n",
                "    \"\"\"Computes the flux-parity system for a single community member\"\"\" \n",
                "    n_nuts = len(c_nt)\n",
                "    M = np.sum(masses[:-2])\n",
                "\n",
                "    # Unpack the metabolic masses\n",
                "    M_Mb = masses[:n_nuts]\n",
                "\n",
                "    # Unpack the ribosomal masse and charged, uncharged tRNA concentrations\n",
                "    M_Rb, _,  tRNA_u, tRNA_c = masses[n_nuts:]   \n",
                "\n",
                "    # Compute the flux-parity properties and unpack\n",
                "    phi_Rb, phi_Mb, nu, gamma, kappa = compute_FPM(tRNA_u, tRNA_c, c_nt, args)\n",
                "\n",
                "    # Compute the fluxes\n",
                "    J_Rb = M_Rb * gamma / M\n",
                "    J_Mb = np.sum(nu * M_Mb) / M\n",
                "\n",
                "    # Compute the derivatives\n",
                "    dM_Mb = phi_Mb * J_Rb\n",
                "    dM_Rb = phi_Rb * J_Rb\n",
                "    dM_O = args['phi_O'] * J_Rb\n",
                "    dtRNA_u = kappa + J_Rb * (1 - tRNA_u) - J_Mb\n",
                "    dtRNA_c = J_Mb - J_Rb * (1 + tRNA_c)\n",
                "    dc_nt = -J_Mb * M/args['Y']\n",
                "    return [dM_Mb, dM_Rb, dM_O, dtRNA_u, dtRNA_c], dc_nt\n",
                "\n",
                "\n",
                "def ecosystem_dynamics(t, params, args):\n",
                "    \"\"\"Computes the dynamics of a community of self replicators\"\"\"\n",
                "    ecosystem_args = args['ecosystem']\n",
                "    community_args = args['community']\n",
                "    nutrients, species = unpack_params(params, ecosystem_args)\n",
                "    mass_derivatives = []\n",
                "    nutrient_derivatives = np.zeros(len(nutrients))\n",
                "    for i, s in enumerate(species):\n",
                "        dM, dc = compute_derivatives(s, nutrients, community_args[i])\n",
                "        for m in dM:\n",
                "            mass_derivatives.append(m)\n",
                "        for i, c in enumerate(dc):\n",
                "            nutrient_derivatives[i] += c\n",
                "    du = np.array([np.array(mass_derivatives), nutrient_derivatives]).flatten()     \n",
                "    return du\n",
                "\n",
                "\n",
                "class Ecosystem():\n",
                "    def __init__(self, n_species, n_nutrients):\n",
                "        self.n_species = n_species\n",
                "        self.n_nutrients = n_nutrients\n",
                "\n"
            ]
        },
        {
            "cell_type": "code",
            "execution_count": 6,
            "metadata": {},
            "outputs": [
                {
                    "data": {
                        "text/plain": [
                            "<__main__.Ecosystem at 0x12f1ab1c0>"
                        ]
                    },
                    "execution_count": 6,
                    "metadata": {},
                    "output_type": "execute_result"
                }
            ],
            "source": [
                "Ecosystem(4, 2)"
            ]
        },
        {
            "cell_type": "code",
            "execution_count": null,
            "metadata": {},
            "outputs": [],
            "source": []
        },
        {
            "cell_type": "code",
            "execution_count": 83,
            "metadata": {},
            "outputs": [],
            "source": [
                "class FluxParityAllocator():\n",
                "    \"\"\"Base class for a self replicator obeying flux-parity allocation.\"\"\"\n",
                "    def __init__(self, suballocation, constants={}):\n",
                "        \"\"\"\n",
                "        Instantiates a self replicating organism that undergoes flux-parity regulation \n",
                "        of its resource allocation. \n",
                "\n",
                "        Parameters\n",
                "        ----------\n",
                "        suballocation : dict \n",
                "            A dictionary defining the metabolic suballocation strategy of the \n",
                "            self replicator. Must have the following keys:\n",
                "                strategy: str, `'dynamic'` or `'static'`\n",
                "                    The type of suballocation. If `'dynamic'`, the suballocation\n",
                "                    of each metabolic sector follows a Monod function with a \n",
                "                    Monod constant `K` and sensitivty `n`. If `'static'`,\n",
                "                    suballocation is deemed to be at a fixed value, supplied\n",
                "                    with key `alpha.`    \n",
                "                metabolic_rates: numpy.ndarray of floats [0, inf)\n",
                "                    The metabolic rate for consumption of each nutrient in units \n",
                "                    of inverse hours.\n",
                "                alpha : `numpy.ndarray` of float, [0, 1]\n",
                "                    The fixed suballocation of the metabolic strategy. Values \n",
                "                    must sum to `1.0`. This is only used if `strategy: 'static'` \n",
                "                    is supplied.\n",
                "                K : numpy.ndarray of float [0, inf)\n",
                "                    The Monod constant for the suballocation, in units of concentration.\n",
                "                    This is only used if `strategy: 'dynamic'` is supplied.\n",
                "                n : numpy.ndarray of int [1, inf) \n",
                "                    The sensitivity parameter of the Monod function. This is only \n",
                "                    used if `strategy: 'dynamic'` is supplied.\n",
                "\n",
                "               \n",
                "        constants : dict, optional\n",
                "            A dictionary of the constant model parameters. Default values\n",
                "            (described below) can be overridden by providing a key,value pair.\n",
                "                gamma_max : float\n",
                "                    The maximum translation rate in inverse hours. Default \n",
                "                    value is 9.65 inv. hr. \n",
                "                phi_O : float [0, 1]\n",
                "                    The allocation towards all non-ribosomal and non-metabolic \n",
                "                    proteins. Default value is 0.55. \n",
                "               tau : float [0, inf)                               \n",
                "                    The sensitivity parameter of the flux-parity ribosomal \n",
                "                    allocation function. Default is 1.0\n",
                "               kappa_max : float [0, inf)\n",
                "                    The maximum transcription rate of uncharged tRNA in \n",
                "                    mass abundance units per hour. Default is 1.15E-3 inverse hr.\n",
                "               Km_u : float [0, inf)                \n",
                "                    The Michaelis-Menten constant for binding of uncharged tRNA \n",
                "                    to the metabolic components in units of relative mass abundance. \n",
                "                    Default value is 3E-5.\n",
                "               Km_c : float [0, inf)                \n",
                "                    The Michaelis-Menten constant for binding of charged tRNA \n",
                "                    to the ribosomal components in units of relative mass abundance. \n",
                "                    Default value is 3E-5.\n",
                "               Km : numpy.ndarray [0, inf)\n",
                "                    The Monod constant for metabolic activity as a function of\n",
                "                    the external nutrient concentration in units of concentration. \n",
                "                    Default is the same for each nutrient with 5E-6 M.\n",
                "               Y : numpy.ndarray [0, inf)\n",
                "                    The yield coefficient for growth on each nutrient. Default \n",
                "                    is 2.95E19 for each nutrient supplied.              \n",
                "\n",
                "        \"\"\"\n",
                "        self.num_metab = len(suballocation['nu_max'])\n",
                "\n",
                "        # Set the properties of the self replicator.\n",
                "        _constants = {'gamma_max': 9.65,\n",
                "                     'phi_O': 0.55,\n",
                "                     'tau': 1,\n",
                "                     'kappa_max':1.15E-3,\n",
                "                     'Km_u': 3E-5,\n",
                "                     'Km_c': 3E-5,\n",
                "                     'Km': [5E-6 for _ in range(self.num_metab)],\n",
                "                     'Y': [2.95E19 for _ in range(self.num_metab)],\n",
                "                     'nu_max': suballocation['nu_max']}\n",
                "        self._overridden_pars = {}\n",
                "        for k, v in constants.items():\n",
                "            _constants[k] = v\n",
                "            self._overridden_pars[k] = v\n",
                "\n",
                "        # Set attributes from the constant dictionary.\n",
                "        for k, v in _constants.items():\n",
                "            setattr(self, k, v)\n",
                "\n",
                "        # Set the suballocation details\n",
                "        self.strategy = suballocation['strategy']\n",
                "        if self.strategy == 'static':\n",
                "            if np.sum(suballocation['alpha']) != 1:\n",
                "                raise ValueError(f\"Suballocation parameters must sum to 1!\")\n",
                "            self.alpha = suballocation['alpha'] \n",
                "        elif self.strategy == 'dynamic':\n",
                "            self.K = suballocation['K']\n",
                "            self.n = suballocation['n']\n",
                "        else:\n",
                "            raise ValueError(\"Supplied metabolic strategy must be either `static` or `dynamic`.\") \n",
                "\n",
                "    def __repr__(self):\n",
                "        rep = f\"\"\"\n",
                "================Self Replicator================\n",
                "metabolic_strategy          : {self.strategy}\n",
                "number of metabolic classes : {self.num_metab}\n",
                "metabolic rates             : {self.nu_max}\n",
                "\"\"\"\n",
                "        if self.strategy == 'dynamic':\n",
                "            rep += f\"\\tK's [M] : {self.K}\"\n",
                "            rep += f\"\\n\\tn's : {self.n}\"\n",
                "        elif self.strategy == 'static':\n",
                "            rep += f\"\\talpha's: {self.alpha}\"\n",
                "        if len(self._overridden_pars) > 0:\n",
                "            rep += f\"\\nOverridden Default Parameters:\" \n",
                "            for k, v in self._overridden_pars.items():\n",
                "                rep += f\"\\n\\t{k}: {v}\"\n",
                "        if self._properties:\n",
                "            rep+=f\"\"\"\\n\n",
                "----------------Allocation------------------\n",
                "tRNA ratio (charged/uncharged) : {self.ratio}\n",
                "gamma (translation rate)       : {self.gamma} [inv. hr.]\n",
                "nu (metabolic rate)            : {self.nu} [inv. hr.]\n",
                "kappa (transcription rate)     : {self.kappa} [inv. hr.]\n",
                "phi_Rb (ribosomal allocation)  : {self.phi_Rb}   \n",
                "phi_Mb (metabolic allocation)  : {self.phi_Mb} \n",
                "\n",
                "            \"\"\"\n",
                "        return rep \n",
                "\n",
                "    def compute_properties(self, tRNA_c, tRNA_u, nutrients):\n",
                "        \"\"\"\n",
                "        Computes the self replicator properties, including the allocation parameters \n",
                "        and the corresponding rates. \n",
                "\n",
                "        # Parameters\n",
                "        # ----------\n",
                "        # tRNA_c : float [0, inf)\n",
                "        #     The charged tRNA concentration in relative mass abundance units.\n",
                "        # tRNA_u : float[0, inf) \n",
                "        #     The uncharged tRNA concentration in relative mass abundance units.\n",
                "        # nutrients : numpy.ndarray float \n",
                "        #     The concentration of the nutrients in the environment for calculation\n",
                "        #     of rates. \n",
                "        \"\"\"\n",
                "\n",
                "        # Determine if the uncharged tRNA concentration is 0. If so, set the \n",
                "        # ribosomal allocation to 1 and do not compute the ratio\n",
                "        if tRNA_u <= 0: #Include less than zero for numerical underflow\n",
                "            self.phi_Rb = (1 - self.phi_O)\n",
                "            self.ratio = np.inf\n",
                "        else:\n",
                "            self.ratio = tRNA_c / tRNA_u\n",
                "            self.phi_Rb = (1 - self.phi_O) * (self.ratio / (self.ratio + self.tau))\n",
                "\n",
                "        # Adjust the flux parity regulation on transcription\n",
                "        self.kappa = self.kappa_max * self.phi_Rb / (1 - self.phi_O)\n",
                "\n",
                "        # Set the translation rate\n",
                "        self.gamma = self.gamma_max * tRNA_c / (tRNA_c + self.Km_c)\n",
                "        \n",
                "        # Set the metabolic rates\n",
                "        self.nu  = np.zeros_like(self.nu_max)\n",
                "        metab_factor = tRNA_u / (tRNA_u + self.Km_u)\n",
                "        for i in range(self.num_metab):\n",
                "            env_factor = nutrients[i] / (nutrients[i] + self.Km[i])\n",
                "            self.nu[i] = self.nu_max[i] * env_factor * metab_factor\n",
                "\n",
                "        # Compute the metabolic allocation\n",
                "        self.phi_Mb = np.zeros(self.num_metab)\n",
                "        if self.strategy == 'static':\n",
                "            # Set the fixed suballocations as prescribed by the alpha parameters.\n",
                "            for i in range(self.num_metab):\n",
                "                self.phi_Mb[i] = (1 - self.phi_O - self.phi_Rb) * self.alpha[i] \n",
                "\n",
                "        elif self.strategy == 'dynamic':\n",
                "            # set the suballocation based on the nutrient concentrations\n",
                "            occupied_phi_Mb = 0 \n",
                "            for i in range(self.num_metab):\n",
                "                if i == (self.num_metab - 1):\n",
                "                    # Evaluate the remaining suballocation to the final nutrient in the hierarchy.\n",
                "                    self.phi_Mb[i] = (1 - self.phi_O - self.phi_Rb - occupied_phi_Mb) \n",
                "                else:\n",
                "                    # Set the suballocation given the supplied monod function properties\n",
                "                    numer = (nutrients[i] / self.K[i])**self.n\n",
                "                    factor = numer / (numer + 1)\n",
                "                    self.phi_Mb[i] =  (1 - self.phi_O - self.phi_Rb - occupied_phi_Mb) * factor\n",
                "                    occupied_phi_Mb += self.phi_Mb\n",
                "        self._properties = True\n",
                "\n",
                "    def compute_derivatives(self, masses, nutrients):\n",
                "        \"\"\"\n",
                "        Computes the mass and concentration derivatives given the internal flux-parity \n",
                "        allocation state.\n",
                "\n",
                "        Parameters\n",
                "        ----------\n",
                "        masses : numpy.ndarray \n",
                "            The masses of the protein sectors and the concentrations of the charged \n",
                "            and uncharged tRNAs.\n",
                "             \n",
                "        \"\"\"\n"
            ]
        },
        {
            "cell_type": "code",
            "execution_count": null,
            "metadata": {},
            "outputs": [],
            "source": [
                "class SelfReplicator():\n",
                "    \"\"\"Base class for self replication\"\"\"\n",
                "    def __init__(self, variables, allocation):\n",
                "        \"\"\"\n",
                "        Initializes a self-replicating system obeying flux-parity regulation for \n",
                "        \"\"\""
            ]
        },
        {
            "cell_type": "code",
            "execution_count": 84,
            "metadata": {},
            "outputs": [],
            "source": [
                "cell = FluxParityAllocator({'strategy': 'static', 'alpha':[0.75, 0.25, 0], 'nu_max':[10, 5, 2]})"
            ]
        },
        {
            "cell_type": "code",
            "execution_count": 85,
            "metadata": {},
            "outputs": [
                {
                    "name": "stdout",
                    "output_type": "stream",
                    "text": [
                        "0.16874999999999998\n",
                        "0.056249999999999994\n",
                        "0.0\n"
                    ]
                }
            ],
            "source": [
                "cell.compute_properties(1E-5, 1E-5, [0.001, 0.001, 0.001])"
            ]
        },
        {
            "cell_type": "code",
            "execution_count": 86,
            "metadata": {},
            "outputs": [
                {
                    "data": {
                        "text/plain": [
                            "\n",
                            "================Self Replicator================\n",
                            "metabolic_strategy          : static\n",
                            "number of metabolic classes : 3\n",
                            "metabolic rates             : [10, 5, 2]\n",
                            "\talpha's: [0.75, 0.25, 0]\n",
                            "\n",
                            "----------------Allocation------------------\n",
                            "tRNA ratio (charged/uncharged) : 1.0\n",
                            "gamma (translation rate)       : 2.4125 [inv. hr.]\n",
                            "nu (metabolic rate)            : [2 1 0] [inv. hr.]\n",
                            "kappa (transcription rate)     : 0.000575 [inv. hr.]\n",
                            "phi_Rb (ribosomal allocation)  : 0.22499999999999998   \n",
                            "phi_Mb (metabolic allocation)  : [0.16875 0.05625 0.     ] \n",
                            "\n",
                            "            "
                        ]
                    },
                    "execution_count": 86,
                    "metadata": {},
                    "output_type": "execute_result"
                }
            ],
            "source": [
                "cell\n",
                "\n",
                "# masses = np.array([0, 0, 1, 1, 1E-5, 1E-5])\n",
                "# nutrients = np.array([1E-5, 1E-5, 1E-5])\n",
                "# M_Rb, M_Mb, tRNA_u, tRNA_c = compute_derivatives(masses, nutrients, {})\n",
                "# phi_Rb, phi_Mb = allocation(tRNA_u, tRNA_c, nutrients, {'phi_O':0.55, 'tau':1, 'alpha_mode':'fixed', 'alpha':np.array([0.6, 0.2, 0.2])})"
            ]
        },
        {
            "cell_type": "code",
            "execution_count": 49,
            "metadata": {},
            "outputs": [
                {
                    "ename": "NameError",
                    "evalue": "name 'params' is not defined",
                    "output_type": "error",
                    "traceback": [
                        "\u001b[0;31m---------------------------------------------------------------------------\u001b[0m",
                        "\u001b[0;31mNameError\u001b[0m                                 Traceback (most recent call last)",
                        "Cell \u001b[0;32mIn[49], line 1\u001b[0m\n\u001b[0;32m----> 1\u001b[0m \u001b[43mparams\u001b[49m\n\u001b[1;32m      4\u001b[0m \u001b[38;5;28;01mdef\u001b[39;00m \u001b[38;5;21mload_constants\u001b[39m():\n\u001b[1;32m      5\u001b[0m \u001b[38;5;250m    \u001b[39m\u001b[38;5;124;03m\"\"\"Returns constants frequently used in this work\"\"\"\u001b[39;00m\n",
                        "\u001b[0;31mNameError\u001b[0m: name 'params' is not defined"
                    ]
                }
            ],
            "source": [
                "params\n",
                "\n",
                "\n",
                "def load_constants():\n",
                "    \"\"\"Returns constants frequently used in this work\"\"\"\n",
                "    params = {'vtl_max': 20,  # Max translation speed in AA/s\n",
                "              'm_Rb': 7459,  # Proteinaceous mass of ribosome  in AA\n",
                "              'Kd_cpc': 0.03,  # precursor dissociation constant in abundance units\n",
                "              'Km': 5E-4,  # Nutrient monod constant in M\n",
                "              'Y': 2.95E19,  # Yield coefficient\n",
                "              'OD_conv': 1.5E17,  # Conversion factor from OD to AA mass.\n",
                "              'Km_u': 3E-5,  # uncharged tRNA dissociation constant in abundance units\n",
                "              'Kd_c': 3E-5,  # Charged tRNA dissociation constant in abundance units\n",
                "              # Maximum tRNA synthesis rate  in abundance units per unit time\n",
                "              'kappa_max': (64 * 5 * 3600) / 1E9,\n",
                "              'tau': 1,  # ppGpp threshold parameter for charged/uncharged tRNA balance\n",
                "              # Fraction of proteome deoveted to `other` proteins for E. coli.\n",
                "              'phi_O': 0.55,\n",
                "              }\n",
                "    params['gamma_max'] = params['vtl_max'] * 3600 / params['m_Rb']"
            ]
        },
        {
            "cell_type": "code",
            "execution_count": 28,
            "metadata": {},
            "outputs": [
                {
                    "data": {
                        "text/plain": [
                            "array([0.135, 0.045, 0.045])"
                        ]
                    },
                    "execution_count": 28,
                    "metadata": {},
                    "output_type": "execute_result"
                }
            ],
            "source": [
                "phi_Mb"
            ]
        },
        {
            "cell_type": "code",
            "execution_count": 15,
            "metadata": {},
            "outputs": [
                {
                    "data": {
                        "text/plain": [
                            "1e-05"
                        ]
                    },
                    "execution_count": 15,
                    "metadata": {},
                    "output_type": "execute_result"
                }
            ],
            "source": [
                "tRNA_c"
            ]
        },
        {
            "cell_type": "code",
            "execution_count": 16,
            "metadata": {},
            "outputs": [
                {
                    "data": {
                        "text/plain": [
                            "[0, 0, 1]"
                        ]
                    },
                    "execution_count": 16,
                    "metadata": {},
                    "output_type": "execute_result"
                }
            ],
            "source": [
                "M_Mb"
            ]
        },
        {
            "cell_type": "code",
            "execution_count": null,
            "metadata": {},
            "outputs": [],
            "source": []
        }
    ],
    "metadata": {
        "kernelspec": {
            "display_name": "base",
            "language": "python",
            "name": "python3"
        },
        "language_info": {
            "codemirror_mode": {
                "name": "ipython",
                "version": 3
            },
            "file_extension": ".py",
            "mimetype": "text/x-python",
            "name": "python",
            "nbconvert_exporter": "python",
            "pygments_lexer": "ipython3",
            "version": "3.10.9"
        }
    },
    "nbformat": 4,
    "nbformat_minor": 2
}
