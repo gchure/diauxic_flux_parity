{
 "cells": [
  {
   "cell_type": "code",
   "execution_count": 1,
   "metadata": {},
   "outputs": [],
   "source": [
    "import numpy as np \n",
    "import pandas as pd \n",
    "import scipy.integrate"
   ]
  },
  {
   "cell_type": "code",
   "execution_count": null,
   "metadata": {},
   "outputs": [],
   "source": []
  },
  {
   "cell_type": "code",
   "execution_count": 29,
   "metadata": {},
   "outputs": [],
   "source": [
    "\n",
    "def load_constants():\n",
    "    \"\"\"Returns constants frequently used in this work\"\"\"\n",
    "    params = {'vtl_max': 20,  # Max translation speed in AA/s\n",
    "              'm_Rb': 7459,  # Proteinaceous mass of ribosome  in AA\n",
    "              'Kd_cpc': 0.03,  # precursor dissociation constant in abundance units\n",
    "              'Km': 5E-4,  # Nutrient monod constant in M\n",
    "              'Y': 2.95E19,  # Yield coefficient\n",
    "              'OD_conv': 1.5E17,  # Conversion factor from OD to AA mass.\n",
    "              'Km_u': 3E-5,  # uncharged tRNA dissociation constant in abundance units\n",
    "              'Kd_c': 3E-5,  # Charged tRNA dissociation constant in abundance units\n",
    "              # Maximum tRNA synthesis rate  in abundance units per unit time\n",
    "              'kappa_max': (64 * 5 * 3600) / 1E9,\n",
    "              'tau': 1,  # ppGpp threshold parameter for charged/uncharged tRNA balance\n",
    "              # Fraction of proteome deoveted to `other` proteins for E. coli.\n",
    "              'phi_O': 0.55,\n",
    "              }\n",
    "    params['gamma_max'] = params['vtl_max'] * 3600 / params['m_Rb']\n",
    "    return params"
   ]
  },
  {
   "cell_type": "code",
   "execution_count": 24,
   "metadata": {},
   "outputs": [],
   "source": [
    "def unpack_params(params, args): \n",
    "    n_nuts = len(args['n_nutrients'])\n",
    "    n_species = len(args(['n_species']))\n",
    "    n_params = n_nuts + 4 # 4 is hard coded to account for M_O, M_Rb, tRNA_u, tRNA_c\n",
    "\n",
    "    # Unpack the nutrient concentrations\n",
    "    nutrients = [c for c in params[-n_nuts:]]\n",
    "    masses = params[:-n_nuts]\n",
    "\n",
    "    # Separate the params into species\n",
    "    species = []\n",
    "    for i in range(n_species):\n",
    "        species.append(masses[i*n_params:n_params * (i + 1)])\n",
    "\n",
    "    return nutrients, species\n",
    "\n",
    "\n",
    "\n",
    "\n",
    "def compute_FPM(tRNA_u, tRNA_c, c_nt, args):\n",
    "    n_nuts = len(c_nt)\n",
    "    # Set ribosomal allocation, based on the ratio and enforcing positivity\n",
    "    if tRNA_u <= 0:\n",
    "        phi_Rb = (1 - args['phi_O'])\n",
    "    else:\n",
    "        ratio = tRNA_c/tRNA_u\n",
    "        phi_Rb = (1 - args['phi_O']) * (ratio / (ratio + args['tau']))\n",
    "\n",
    "    # Set the hierarchy and metabolic allocation \n",
    "    metabolic_suballocation = [] \n",
    "    if args['alpha_mode'] == 'dynamic':\n",
    "        # We assume a monod function for the suballocation\n",
    "        for i in range(n_nuts - 1):\n",
    "            monod_fn = c_nt[i] / (c_nt[i] + args['alpha_Km'][i])\n",
    "            if i == 0:\n",
    "                metabolic_suballocation[i] = monod_fn\n",
    "            else:\n",
    "                metabolic_suballocation[i] = (1 - np.sum(metabolic_suballocation[:i]) * monod_fn)\n",
    "        metabolic_suballocation[-1] = 1 - np.sum(metabolic_suballocation)\n",
    "\n",
    "    elif args['alpha_mode'] == 'fixed':\n",
    "        metabolic_suballocation = args['alpha']\n",
    "\n",
    "    # Compute the rates\n",
    "    gamma = args['gamma_max'] * tRNA_c / (tRNA_c + args['Km_c'])\n",
    "    kappa = args['kappa_max'] * phi_Rb / (1 - args['phi_O'])\n",
    "    nu = np.zeros_like(c_nt) \n",
    "    for i, c in enumerate(c_nt):\n",
    "        nu[i] = args['nu_max'][i] * (tRNA_u / (tRNA_u + args['Km_u'])) * (c_nt[i] / (c_nt[i] + args['Km'][i])) \n",
    " \n",
    "    # Compute the net metabolic allocation\n",
    "    phi_Mb = (1 - args['phi_O'] - phi_Rb) * metabolic_suballocation\n",
    "    return phi_Rb, phi_Mb, nu, gamma, kappa\n",
    "\n",
    "   \n",
    "def compute_derivatives(masses, c_nt, args):\n",
    "    \"\"\"Computes the flux-parity system for a single community member\"\"\" \n",
    "    n_nuts = len(c_nt)\n",
    "    M = np.sum(masses[:-2])\n",
    "\n",
    "    # Unpack the metabolic masses\n",
    "    M_Mb = masses[:n_nuts]\n",
    "\n",
    "    # Unpack the ribosomal masse and charged, uncharged tRNA concentrations\n",
    "    M_Rb, _,  tRNA_u, tRNA_c = masses[n_nuts:]   \n",
    "\n",
    "    # Compute the flux-parity properties and unpack\n",
    "    phi_Rb, phi_Mb, nu, gamma, kappa = compute_FPM(tRNA_u, tRNA_c, c_nt, args)\n",
    "\n",
    "    # Compute the fluxes\n",
    "    J_Rb = M_Rb * gamma / M\n",
    "    J_Mb = np.sum(nu * M_Mb) / M\n",
    "\n",
    "    # Compute the derivatives\n",
    "    dM_Mb = phi_Mb * J_Rb\n",
    "    dM_Rb = phi_Rb * J_Rb\n",
    "    dM_O = args['phi_O'] * J_Rb\n",
    "    dtRNA_u = kappa + J_Rb * (1 - tRNA_u) - J_Mb\n",
    "    dtRNA_c = J_Mb - J_Rb * (1 + tRNA_c)\n",
    "    dc_nt = -J_Mb * M/args['Y']\n",
    "    return [dM_Mb, dM_Rb, dM_O, dtRNA_u, dtRNA_c], dc_nt\n",
    "\n",
    "\n",
    "def ecosystem_dynamics(t, params, args):\n",
    "    \"\"\"Computes the dynamics of a community of self replicators\"\"\"\n",
    "    ecosystem_args = args['ecosystem']\n",
    "    community_args = args['community']\n",
    "    nutrients, species = unpack_params(params, ecosystem_args)\n",
    "    mass_derivatives = []\n",
    "    nutrient_derivatives = np.zeros(len(nutrients))\n",
    "    for i, s in enumerate(species):\n",
    "        dM, dc = compute_derivatives(s, nutrients, community_args[i])\n",
    "        for m in dM:\n",
    "            mass_derivatives.append(m)\n",
    "        for i, c in enumerate(dc):\n",
    "            nutrient_derivatives[i] += append(c)\n",
    "    du = np.array([np.array(mass_derivatives), nutrient_derivatives]).flatten()     \n",
    "    return du\n",
    "\n",
    "\n"
   ]
  },
  {
   "cell_type": "code",
   "execution_count": null,
   "metadata": {},
   "outputs": [],
   "source": []
  },
  {
   "cell_type": "code",
   "execution_count": null,
   "metadata": {},
   "outputs": [],
   "source": []
  },
  {
   "cell_type": "code",
   "execution_count": 30,
   "metadata": {},
   "outputs": [],
   "source": [
    "params = load_constants() \n",
    "\n",
    "# masses = np.array([0, 0, 1, 1, 1E-5, 1E-5])\n",
    "# nutrients = np.array([1E-5, 1E-5, 1E-5])\n",
    "# M_Rb, M_Mb, tRNA_u, tRNA_c = compute_derivatives(masses, nutrients, {})\n",
    "# phi_Rb, phi_Mb = allocation(tRNA_u, tRNA_c, nutrients, {'phi_O':0.55, 'tau':1, 'alpha_mode':'fixed', 'alpha':np.array([0.6, 0.2, 0.2])})"
   ]
  },
  {
   "cell_type": "code",
   "execution_count": 31,
   "metadata": {},
   "outputs": [
    {
     "data": {
      "text/plain": [
       "{'vtl_max': 20,\n",
       " 'm_Rb': 7459,\n",
       " 'Kd_cpc': 0.03,\n",
       " 'Km': 0.0005,\n",
       " 'Y': 2.95e+19,\n",
       " 'OD_conv': 1.5e+17,\n",
       " 'Km_u': 3e-05,\n",
       " 'Kd_c': 3e-05,\n",
       " 'kappa_max': 0.001152,\n",
       " 'tau': 1,\n",
       " 'phi_O': 0.55,\n",
       " 'gamma_max': 9.652768467623005}"
      ]
     },
     "execution_count": 31,
     "metadata": {},
     "output_type": "execute_result"
    }
   ],
   "source": [
    "params"
   ]
  },
  {
   "cell_type": "code",
   "execution_count": 28,
   "metadata": {},
   "outputs": [
    {
     "data": {
      "text/plain": [
       "array([0.135, 0.045, 0.045])"
      ]
     },
     "execution_count": 28,
     "metadata": {},
     "output_type": "execute_result"
    }
   ],
   "source": [
    "phi_Mb"
   ]
  },
  {
   "cell_type": "code",
   "execution_count": 15,
   "metadata": {},
   "outputs": [
    {
     "data": {
      "text/plain": [
       "1e-05"
      ]
     },
     "execution_count": 15,
     "metadata": {},
     "output_type": "execute_result"
    }
   ],
   "source": [
    "tRNA_c"
   ]
  },
  {
   "cell_type": "code",
   "execution_count": 16,
   "metadata": {},
   "outputs": [
    {
     "data": {
      "text/plain": [
       "[0, 0, 1]"
      ]
     },
     "execution_count": 16,
     "metadata": {},
     "output_type": "execute_result"
    }
   ],
   "source": [
    "M_Mb"
   ]
  },
  {
   "cell_type": "code",
   "execution_count": null,
   "metadata": {},
   "outputs": [],
   "source": []
  }
 ],
 "metadata": {
  "kernelspec": {
   "display_name": "base",
   "language": "python",
   "name": "python3"
  },
  "language_info": {
   "codemirror_mode": {
    "name": "ipython",
    "version": 3
   },
   "file_extension": ".py",
   "mimetype": "text/x-python",
   "name": "python",
   "nbconvert_exporter": "python",
   "pygments_lexer": "ipython3",
   "version": "3.10.9"
  }
 },
 "nbformat": 4,
 "nbformat_minor": 2
}
